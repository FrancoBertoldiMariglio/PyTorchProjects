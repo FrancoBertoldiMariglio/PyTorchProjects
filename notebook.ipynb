{
 "cells": [
  {
   "cell_type": "code",
   "execution_count": null,
   "id": "initial_id",
   "metadata": {
    "collapsed": true
   },
   "outputs": [],
   "source": [
    "import pandas as pd"
   ]
  },
  {
   "cell_type": "code",
   "outputs": [],
   "source": [
    "config = dict()"
   ],
   "metadata": {
    "collapsed": false
   },
   "id": "864bb8f875d6f1b5",
   "execution_count": null
  },
  {
   "cell_type": "code",
   "outputs": [],
   "source": [
    "dataset = pd.DataFrame(columns = ['image_path', 'label'])"
   ],
   "metadata": {
    "collapsed": false
   },
   "id": "ade69881659586ec",
   "execution_count": null
  },
  {
   "cell_type": "code",
   "outputs": [],
   "source": [
    "from sklearn.model_selection import train_test_split\n",
    "\n",
    "seed = 42\n",
    "test_size = 0.15\n",
    "val_size = 0.25\n",
    "\n",
    "config['seed'] = 42\n",
    "config['test_size'] = test_size\n",
    "config['val_size'] = val_size\n",
    "\n",
    "train_val_df, test_df = train_test_split(dataset, test_size=test_size, stratify=dataset['label'], random_state=seed)\n",
    "\n",
    "train_df, val_df = train_test_split(train_val_df, test_size=val_size, stratify=train_val_df['label'], random_state=seed)"
   ],
   "metadata": {
    "collapsed": false
   },
   "id": "c917bf47361b7ee4",
   "execution_count": null
  },
  {
   "cell_type": "code",
   "outputs": [],
   "source": [
    "config['train_n_dni'] = train_df['label'].value_counts()[0]\n",
    "config['train_n_fake_dni'] = train_df['label'].value_counts()[1]\n",
    "config['val_n_dni'] = val_df['label'].value_counts()[0]\n",
    "config['val_n_fake_dni'] = val_df['label'].value_counts()[1]\n",
    "config['test_n_dni'] = test_df['label'].value_counts()[0]\n",
    "config['test_n_fake_dni'] = test_df['label'].value_counts()[1]"
   ],
   "metadata": {
    "collapsed": false
   },
   "id": "b1553df6b90e704f"
  },
  {
   "cell_type": "code",
   "outputs": [],
   "source": [
    "from torch.utils.data import Dataset\n",
    "from torchvision import transforms\n",
    "from PIL import Image\n",
    "\n",
    "class IdDataset(Dataset):\n",
    "    def __init__(self, img_path_list, lab_list, transform=None):\n",
    "        self.transform = transform\n",
    "        self.images = img_path_list\n",
    "        self.labels = lab_list\n",
    "\n",
    "    def __len__(self):\n",
    "        return len(self.images)\n",
    "\n",
    "    def __getitem__(self, idx):\n",
    "        img_path = self.images[idx]\n",
    "        image = Image.open(img_path).convert(\"RGB\")\n",
    "\n",
    "        label = self.labels[idx]\n",
    "        label = torch.Tensor([label])\n",
    "\n",
    "        if self.transform:\n",
    "            image = self.transform(image)\n",
    "\n",
    "        return image, label"
   ],
   "metadata": {
    "collapsed": false
   },
   "id": "7b45e5a351a068a2"
  },
  {
   "cell_type": "code",
   "outputs": [],
   "source": [
    "input_size = (224,224)\n",
    "config['input_size'] = input_size"
   ],
   "metadata": {
    "collapsed": false
   },
   "id": "7b497cc043ab1963"
  },
  {
   "cell_type": "code",
   "outputs": [],
   "source": [
    "transform = transforms.Compose([transforms.Resize(input_size), transforms.ToTensor()])"
   ],
   "metadata": {
    "collapsed": false
   },
   "id": "1a5a913fa8137235"
  },
  {
   "cell_type": "code",
   "outputs": [],
   "source": [
    "train_dataset = IdDataset(train_df['image_path'].tolist(), train_df['label'].tolist(), transform)\n",
    "val_dataset = IdDataset(val_df['image_path'].tolist(), val_df['label'].tolist(), transform)\n",
    "test_dataset = IdDataset(test_df['image_path'].tolist(), test_df['label'].tolist(), transform)"
   ],
   "metadata": {
    "collapsed": false
   },
   "id": "3d52fa22f476ad9f"
  },
  {
   "cell_type": "code",
   "outputs": [],
   "source": [
    "from torch.utils.data import DataLoader\n",
    "\n",
    "batch_size = 10\n",
    "config['batch_size'] = batch_size\n",
    "\n",
    "train_dataloader = DataLoader(train_dataset, batch_size=batch_size, shuffle=True, drop_last=True)\n",
    "val_dataloader = DataLoader(train_dataset, batch_size=batch_size, shuffle=True, drop_last=True)\n",
    "test_dataloader = DataLoader(test_dataset, batch_size=1, shuffle=False, drop_last=False)"
   ],
   "metadata": {
    "collapsed": false
   },
   "id": "e0bfe8517c2b10dc"
  },
  {
   "cell_type": "code",
   "outputs": [],
   "source": [
    "import torch\n",
    "import torch.nn as nn\n",
    "import torch.optim as optim\n",
    "import torchvision.models as models\n",
    "\n",
    "class Net(nn.Module):\n",
    "    def __init__(self):\n",
    "        super(Net, self).__init__()\n",
    "        self.model = models.resnet50(pretrained=True)\n",
    "        self.model.fc = nn.Linear(512, 1)\n",
    "\n",
    "    def forward(self, x):\n",
    "        x = self.model(x)\n",
    "        return x"
   ],
   "metadata": {
    "collapsed": false
   },
   "id": "2441253eb2cf2dc1"
  },
  {
   "cell_type": "code",
   "outputs": [],
   "source": [
    "import os\n",
    "\n",
    "if os.name == 'posix':\n",
    "    device = torch.device(\"mps\" if torch.mps.is_available() else \"cpu\")\n",
    "elif os.name == 'nt':\n",
    "    device = torch.device(\"cuda\" if torch.cuda.is_available() else \"cpu\")\n",
    "else:\n",
    "    device = torch.device(\"cpu\")"
   ],
   "metadata": {
    "collapsed": false
   },
   "id": "c53892b85ce67f3f"
  },
  {
   "cell_type": "code",
   "outputs": [],
   "source": [
    "model = Net().to(device)\n",
    "\n",
    "config['model'] = 'Net'"
   ],
   "metadata": {
    "collapsed": false
   },
   "id": "16e5a336fb4d1590"
  },
  {
   "cell_type": "code",
   "outputs": [],
   "source": [
    "criterion = nn.BCELoss()\n",
    "\n",
    "config['model'] = 'BCELoss'"
   ],
   "metadata": {
    "collapsed": false
   },
   "id": "ac2b5ab246a01653"
  },
  {
   "cell_type": "code",
   "outputs": [],
   "source": [
    "lr = 0.001\n",
    "optimizer = optim.Adam(model.parameters(), lr=lr)\n",
    "\n",
    "config['learning_rate'] = lr\n",
    "config['optimizer'] = 'Adam'"
   ],
   "metadata": {
    "collapsed": false
   },
   "id": "22498679094c8dd4"
  },
  {
   "cell_type": "code",
   "outputs": [],
   "source": [
    "def train(model, train_dataloader, criterion, optimizer, device):\n",
    "    model.to(device)\n",
    "    model.train()\n",
    "    running_loss = 0.0\n",
    "    correct = 0\n",
    "    total = 0\n",
    "\n",
    "    for images, labels in train_dataloader:\n",
    "        images, labels = images.to(device), labels.to(device) \n",
    "\n",
    "        optimizer.zero_grad()  \n",
    "        outputs = model(images)  \n",
    "        loss = criterion(outputs, labels) \n",
    "        loss.backward()  \n",
    "        optimizer.step()  \n",
    "\n",
    "        running_loss += loss.item()\n",
    "\n",
    "        threshold = 0.5 \n",
    "        predicted = (outputs.detach() >= threshold)  \n",
    "        total += labels.size(0)\n",
    "        correct += (predicted == labels).sum().item()\n",
    "\n",
    "    train_avg_loss = running_loss / len(train_dataloader)\n",
    "    train_accuracy = correct / total\n",
    "    return train_avg_loss, train_accuracy"
   ],
   "metadata": {
    "collapsed": false
   },
   "id": "bf06b10d5f6adc48"
  },
  {
   "cell_type": "code",
   "outputs": [],
   "source": [
    "def validate(model, val_dataloader, criterion, device):\n",
    "    model.eval()  \n",
    "    running_loss = 0.0\n",
    "    correct = 0\n",
    "    total = 0\n",
    "    with torch.no_grad():  \n",
    "        for images, labels in val_dataloader:\n",
    "            images, labels = images.to(device), labels.to(device)\n",
    "            outputs = model(images)\n",
    "            loss = criterion(outputs, labels)\n",
    "            running_loss += loss.item()\n",
    "\n",
    "            threshold = 0.5 \n",
    "            predicted = (outputs.detach() >= threshold)  \n",
    "            total += labels.size(0)\n",
    "            correct += (predicted == labels).sum().item()\n",
    "\n",
    "    val_avg_loss = running_loss / len(val_dataloader)\n",
    "    val_accuracy = correct / total\n",
    "    return val_avg_loss, val_accuracy"
   ],
   "metadata": {
    "collapsed": false
   },
   "id": "83361d5bf4602d0"
  },
  {
   "cell_type": "code",
   "outputs": [],
   "source": [
    "num_epochs = 15\n",
    "early_stopping_patience = 5\n",
    "epochs_without_improvement = 0\n",
    "\n",
    "config['num_epochs'] = num_epochs\n",
    "config['early_stopping_patience'] = early_stopping_patience"
   ],
   "metadata": {
    "collapsed": false
   },
   "id": "8ca37dfc290af406"
  },
  {
   "cell_type": "code",
   "outputs": [],
   "source": [
    "checkpoint_path = './best_model.pth'\n",
    "\n",
    "best_val_loss = float('inf')  \n",
    "\n",
    "for epoch in range(num_epochs):\n",
    "    train_loss, train_accuracy = train(model, train_dataloader, criterion, optimizer, device)\n",
    "    val_loss, val_accuracy = validate(model, val_dataloader, criterion, device)\n",
    "\n",
    "    print(f'Epoch [{epoch + 1}/{num_epochs}], '\n",
    "          f'Train Loss: {train_loss:.4f}, Train Accuracy: {train_accuracy:.2f}, '\n",
    "          f'Validation Loss: {val_loss:.4f}, Validation Accuracy: {val_accuracy:.2f}')\n",
    "\n",
    "    if val_loss < best_val_loss:\n",
    "      best_val_loss = val_loss \n",
    "      torch.save(model.state_dict(), checkpoint_path) \n",
    "      epochs_without_improvement = 0\n",
    "      print(\"Checkpoint saved\")\n",
    "\n",
    "    else:\n",
    "      epochs_without_improvement +=1\n",
    "      if epochs_without_improvement == early_stopping_patience:\n",
    "        print(\"Early Stopping\")\n",
    "        break "
   ],
   "metadata": {
    "collapsed": false
   },
   "id": "ac0dbcc7d17d15e5"
  },
  {
   "cell_type": "code",
   "outputs": [],
   "source": [
    "model.load_state_dict(torch.load(checkpoint_path))\n",
    "model.to(device)\n",
    "\n",
    "model.eval()"
   ],
   "metadata": {
    "collapsed": false
   },
   "id": "543e02609896a714"
  },
  {
   "cell_type": "code",
   "outputs": [],
   "source": [
    "y_true = []\n",
    "y_proba = []\n",
    "\n",
    "for image, label in test_dataloader:\n",
    "    image, label = image.to(device), label.to(device)  \n",
    "\n",
    "    with torch.no_grad():  \n",
    "        output = model(image)  \n",
    "\n",
    "        y_true.append(label.to(\"cpu\").float())\n",
    "        y_proba.append(output.to(\"cpu\").float())\n",
    "\n",
    "y_true = torch.cat(y_true).int()\n",
    "y_proba = torch.cat(y_proba)\n",
    "\n",
    "thr = 0.5\n",
    "y_pred = (y_proba >= thr).int()"
   ],
   "metadata": {
    "collapsed": false
   },
   "id": "293d0c1c4e7c3a8e"
  },
  {
   "cell_type": "code",
   "outputs": [],
   "source": [
    "from sklearn.metrics import accuracy_score, confusion_matrix, roc_curve, auc, precision_score, recall_score\n",
    "\n",
    "accuracy = accuracy_score(y_true, y_pred)\n",
    "conf_matrix = confusion_matrix(y_true, y_pred)\n",
    "precision = precision_score(y_true, y_pred)\n",
    "recall = recall_score(y_true, y_pred)\n",
    "specificity = recall_score(y_true, y_pred, pos_label=0)\n",
    "\n",
    "fpr, tpr, _ = roc_curve(y_true, y_proba)\n",
    "roc_auc = auc(fpr, tpr)"
   ],
   "metadata": {
    "collapsed": false
   },
   "id": "b18c4e6c2156539c"
  }
 ],
 "metadata": {
  "kernelspec": {
   "display_name": "Python 3",
   "language": "python",
   "name": "python3"
  },
  "language_info": {
   "codemirror_mode": {
    "name": "ipython",
    "version": 2
   },
   "file_extension": ".py",
   "mimetype": "text/x-python",
   "name": "python",
   "nbconvert_exporter": "python",
   "pygments_lexer": "ipython2",
   "version": "2.7.6"
  }
 },
 "nbformat": 4,
 "nbformat_minor": 5
}
